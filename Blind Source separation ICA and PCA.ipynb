{
 "cells": [
  {
   "cell_type": "markdown",
   "metadata": {},
   "source": [
    "In this notebook we compare ICA and PCA in terms of source reconstruction capability.\n",
    "\n",
    "We first mix the national anthems of Austria, Germany and Russia and try to reconstruct them using each method."
   ]
  },
  {
   "cell_type": "code",
   "execution_count": 26,
   "metadata": {},
   "outputs": [],
   "source": [
    "import scipy.io.wavfile\n",
    "import numpy as np\n",
    "from numpy.linalg import matrix_rank,inv\n",
    "from sklearn.decomposition import PCA,FastICA\n",
    "import matplotlib.pyplot as plt"
   ]
  },
  {
   "cell_type": "markdown",
   "metadata": {},
   "source": [
    "First we read the wavfiles for the 3 anthems, check their shapes and store their values"
   ]
  },
  {
   "cell_type": "code",
   "execution_count": 27,
   "metadata": {},
   "outputs": [],
   "source": [
    "german_anthem=scipy.io.wavfile.read(\"anthem1.wav\")"
   ]
  },
  {
   "cell_type": "code",
   "execution_count": 28,
   "metadata": {},
   "outputs": [
    {
     "data": {
      "text/plain": [
       "(3065789, 2)"
      ]
     },
     "execution_count": 28,
     "metadata": {},
     "output_type": "execute_result"
    }
   ],
   "source": [
    "signal_ger=german_anthem[1]\n",
    "german_anthem[1].shape"
   ]
  },
  {
   "cell_type": "code",
   "execution_count": 29,
   "metadata": {},
   "outputs": [],
   "source": [
    "austrian_anthem=scipy.io.wavfile.read(\"anthem2.wav\")"
   ]
  },
  {
   "cell_type": "code",
   "execution_count": 30,
   "metadata": {},
   "outputs": [
    {
     "data": {
      "text/plain": [
       "(3704826, 2)"
      ]
     },
     "execution_count": 30,
     "metadata": {},
     "output_type": "execute_result"
    }
   ],
   "source": [
    "signal_aus=austrian_anthem[1]\n",
    "austrian_anthem[1].shape"
   ]
  },
  {
   "cell_type": "code",
   "execution_count": 31,
   "metadata": {},
   "outputs": [],
   "source": [
    "russian_anthem=scipy.io.wavfile.read(\"anthem3.wav\")"
   ]
  },
  {
   "cell_type": "code",
   "execution_count": 32,
   "metadata": {},
   "outputs": [
    {
     "data": {
      "text/plain": [
       "(3087000, 2)"
      ]
     },
     "execution_count": 32,
     "metadata": {},
     "output_type": "execute_result"
    }
   ],
   "source": [
    "signal_rus=russian_anthem[1]\n",
    "russian_anthem[1].shape"
   ]
  },
  {
   "cell_type": "code",
   "execution_count": 33,
   "metadata": {},
   "outputs": [
    {
     "name": "stdout",
     "output_type": "stream",
     "text": [
      "Sampling rate GER= 44100\n",
      "Sampling rate AUS= 44100\n",
      "Sampling rate RUS= 44100\n"
     ]
    }
   ],
   "source": [
    "print(\"Sampling rate GER=\",german_anthem[0])\n",
    "print(\"Sampling rate AUS=\",austrian_anthem[0])\n",
    "print(\"Sampling rate RUS=\",russian_anthem[0])"
   ]
  },
  {
   "cell_type": "markdown",
   "metadata": {},
   "source": [
    "The sampling rate is equal for all signals\n",
    "\n",
    "Now we combine the left channels for all signals in a matrix stacking the sources on the columns. \n",
    "The length of the signals is truncated according to the shortest one which is the german anthem"
   ]
  },
  {
   "cell_type": "code",
   "execution_count": 34,
   "metadata": {},
   "outputs": [],
   "source": [
    "ger_left_channels=signal_ger[:,0].reshape(len(signal_ger[:,0]),1)\n",
    "\n",
    "aus_left_channels=signal_aus[:,0].reshape(len(signal_aus[:,0]),1)\n",
    "aus_left_channels=aus_left_channels[:len(signal_ger[:,0]),]\n",
    "\n",
    "rus_left_channels=signal_rus[:,0].reshape(len(signal_rus[:,0]),1)\n",
    "rus_left_channels=rus_left_channels[:len(signal_ger[:,0]),]\n",
    "\n",
    "Y=np.c_[ger_left_channels,aus_left_channels,rus_left_channels]"
   ]
  },
  {
   "cell_type": "code",
   "execution_count": 35,
   "metadata": {},
   "outputs": [
    {
     "name": "stdout",
     "output_type": "stream",
     "text": [
      "(3065789, 3)\n"
     ]
    }
   ],
   "source": [
    "print(Y.shape)"
   ]
  },
  {
   "cell_type": "markdown",
   "metadata": {},
   "source": [
    "Next, we apply an arbitrary (full rank) mixing matrix to mix the 3 signals together"
   ]
  },
  {
   "cell_type": "code",
   "execution_count": 36,
   "metadata": {},
   "outputs": [],
   "source": [
    "#mixing signals\n",
    "\n",
    "#A=np.random.randint(5,size=(3,3)) #mixing matrix\n",
    "A=np.array([[1, 1, 1], [0.5, 2, 1.0], [1.5, 1.0, 2.0]])\n",
    "\n",
    "X=np.dot(Y,A.T) # mixed signals"
   ]
  },
  {
   "cell_type": "code",
   "execution_count": 37,
   "metadata": {},
   "outputs": [
    {
     "data": {
      "text/plain": [
       "(3065789, 3)"
      ]
     },
     "execution_count": 37,
     "metadata": {},
     "output_type": "execute_result"
    }
   ],
   "source": [
    "X.shape"
   ]
  },
  {
   "cell_type": "code",
   "execution_count": 38,
   "metadata": {},
   "outputs": [
    {
     "data": {
      "text/plain": [
       "3"
      ]
     },
     "execution_count": 38,
     "metadata": {},
     "output_type": "execute_result"
    }
   ],
   "source": [
    "matrix_rank(A) # checking that A has full rank"
   ]
  },
  {
   "cell_type": "markdown",
   "metadata": {},
   "source": [
    "Now, we scale the mixed signals between -1 and 1, crop them to ten seconds and finally write them to .wav files and listen to them "
   ]
  },
  {
   "cell_type": "code",
   "execution_count": 39,
   "metadata": {},
   "outputs": [],
   "source": [
    "sample_rate=german_anthem[0]\n",
    "\n",
    "s1=X[:,0]\n",
    "s2=X[:,1]\n",
    "s3=X[:,2]\n",
    "\n",
    "mixed1=2*(s1-s1.min())/(s1.max()-s1.min())-1\n",
    "mixed1=mixed1[:sample_rate*10]\n",
    "\n",
    "mixed2=2*(s2-s2.min())/(s2.max()-s2.min())-1\n",
    "mixed2=mixed2[:sample_rate*10]\n",
    "\n",
    "mixed3=2*(s3-s3.min())/(s3.max()-s3.min())-1\n",
    "mixed3=mixed3[:sample_rate*10]"
   ]
  },
  {
   "cell_type": "code",
   "execution_count": 40,
   "metadata": {},
   "outputs": [],
   "source": [
    "#writing to wavfiles\n",
    "scipy.io.wavfile.write(\"mixed_sources1.wav\",sample_rate,mixed1)\n",
    "scipy.io.wavfile.write(\"mixed_sources2.wav\",sample_rate,mixed2)\n",
    "scipy.io.wavfile.write(\"mixed_sources3.wav\",sample_rate,mixed3)"
   ]
  },
  {
   "cell_type": "markdown",
   "metadata": {},
   "source": [
    "**Reconstruction using ICA**"
   ]
  },
  {
   "cell_type": "markdown",
   "metadata": {},
   "source": [
    "We now try to reconstruct our signals to obtain our original sources using ICA, by extracting 3 components"
   ]
  },
  {
   "cell_type": "code",
   "execution_count": 41,
   "metadata": {},
   "outputs": [],
   "source": [
    "#Reconstruction using ICA\n",
    "\n",
    "ica=FastICA(n_components=3)\n",
    "Sources_ica=ica.fit_transform(X)"
   ]
  },
  {
   "cell_type": "code",
   "execution_count": 42,
   "metadata": {},
   "outputs": [
    {
     "data": {
      "text/plain": [
       "(3065789, 3)"
      ]
     },
     "execution_count": 42,
     "metadata": {},
     "output_type": "execute_result"
    }
   ],
   "source": [
    "Sources_ica.shape"
   ]
  },
  {
   "cell_type": "markdown",
   "metadata": {},
   "source": [
    "We now scale the reconstructed signals between -1 and 1, crop them to 10 seconds and write them to wav files to be able to listen to them"
   ]
  },
  {
   "cell_type": "code",
   "execution_count": 43,
   "metadata": {},
   "outputs": [],
   "source": [
    "#Scaling and cropping\n",
    "src1_ica=2*(Sources_ica[:,0]-Sources_ica[:,0].min())/(Sources_ica[:,0].max()-Sources_ica[:,0].min())-1\n",
    "src1_ica=src1_ica[:sample_rate*10]\n",
    "\n",
    "src2_ica=2*(Sources_ica[:,1]-Sources_ica[:,1].min())/(Sources_ica[:,1].max()-Sources_ica[:,1].min())-1\n",
    "src2_ica=src2_ica[:sample_rate*10]\n",
    "\n",
    "src3_ica=2*(Sources_ica[:,2]-Sources_ica[:,2].min())/(Sources_ica[:,2].max()-Sources_ica[:,2].min())-1\n",
    "src3_ica=src3_ica[:sample_rate*10]"
   ]
  },
  {
   "cell_type": "code",
   "execution_count": 44,
   "metadata": {},
   "outputs": [],
   "source": [
    "#writing to wavfiles\n",
    "scipy.io.wavfile.write(\"reconstructed_ica1.wav\",sample_rate,src1_ica)\n",
    "scipy.io.wavfile.write(\"reconstructed_ica2.wav\",sample_rate,src2_ica)\n",
    "scipy.io.wavfile.write(\"reconstructed_ica3.wav\",sample_rate,src3_ica)"
   ]
  },
  {
   "cell_type": "markdown",
   "metadata": {},
   "source": [
    "It is clear from listening to the files that our origninal sources are almost prefectly reconstructed using ICA and we now have 3 files with almost non-overlapping anthems"
   ]
  },
  {
   "cell_type": "markdown",
   "metadata": {},
   "source": [
    "**Reconstruction using PCA**"
   ]
  },
  {
   "cell_type": "markdown",
   "metadata": {},
   "source": [
    "We now try to do reconstruction using PCA by extracting 3 components and checking the results"
   ]
  },
  {
   "cell_type": "code",
   "execution_count": 45,
   "metadata": {},
   "outputs": [],
   "source": [
    "#Reconstruction using PCA\n",
    "\n",
    "pca = PCA(n_components=3)\n",
    "Sources_pca=pca.fit_transform(X)"
   ]
  },
  {
   "cell_type": "markdown",
   "metadata": {},
   "source": [
    "We now scale the reconstructed signals between -1 and 1, crop them to 10 seconds and write them to wav files to be able to listen to them"
   ]
  },
  {
   "cell_type": "code",
   "execution_count": 46,
   "metadata": {},
   "outputs": [],
   "source": [
    "#Scaling and cropping\n",
    "src1_pca=2*(Sources_pca[:,0]-Sources_pca[:,0].min())/(Sources_pca[:,0].max()-Sources_pca[:,0].min())-1\n",
    "src1_pca=src1_pca[:sample_rate*10]\n",
    "\n",
    "src2_pca=2*(Sources_pca[:,1]-Sources_pca[:,1].min())/(Sources_pca[:,1].max()-Sources_pca[:,1].min())-1\n",
    "src2_pca=src2_pca[:sample_rate*10]\n",
    "\n",
    "src3_pca=2*(Sources_pca[:,2]-Sources_pca[:,2].min())/(Sources_pca[:,2].max()-Sources_pca[:,2].min())-1\n",
    "src3_pca=src3_pca[:sample_rate*10]"
   ]
  },
  {
   "cell_type": "code",
   "execution_count": 47,
   "metadata": {},
   "outputs": [],
   "source": [
    "#writing to wavfiles\n",
    "scipy.io.wavfile.write(\"reconstructed_pca1.wav\",sample_rate,src1_pca)\n",
    "scipy.io.wavfile.write(\"reconstructed_pca2.wav\",sample_rate,src2_pca)\n",
    "scipy.io.wavfile.write(\"reconstructed_pca3.wav\",sample_rate,src3_pca)"
   ]
  },
  {
   "cell_type": "markdown",
   "metadata": {},
   "source": [
    "We find out that the sources are not properly reconstructed and that there is indeed significant overlapp between the sources in the reconstructed signals. This is expected as PCA doesn't aim to decompose the signal to independent sources but rather it extracts the components that correspond to the direction of the maximal variance. Thus, in this case it is not the ideal solution for our problem and ICA clearly provides a better solution."
   ]
  },
  {
   "cell_type": "code",
   "execution_count": null,
   "metadata": {},
   "outputs": [],
   "source": []
  }
 ],
 "metadata": {
  "kernelspec": {
   "display_name": "Python 3",
   "language": "python",
   "name": "python3"
  },
  "language_info": {
   "codemirror_mode": {
    "name": "ipython",
    "version": 3
   },
   "file_extension": ".py",
   "mimetype": "text/x-python",
   "name": "python",
   "nbconvert_exporter": "python",
   "pygments_lexer": "ipython3",
   "version": "3.6.4"
  }
 },
 "nbformat": 4,
 "nbformat_minor": 2
}
